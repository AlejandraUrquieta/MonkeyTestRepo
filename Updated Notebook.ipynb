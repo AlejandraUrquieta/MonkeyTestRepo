{
 "cells": [
  {
   "cell_type": "code",
   "execution_count": 2,
   "id": "526b8b42",
   "metadata": {},
   "outputs": [
    {
     "name": "stdout",
     "output_type": "stream",
     "text": [
      "C:\\Users\\18313\\MonkeyTestRepo\\motionmapperpyOther\n",
      "running install\n",
      "running bdist_egg\n",
      "running egg_info\n",
      "writing motionmapperpy.egg-info\\PKG-INFO\n",
      "writing dependency_links to motionmapperpy.egg-info\\dependency_links.txt\n",
      "writing requirements to motionmapperpy.egg-info\\requires.txt\n",
      "writing top-level names to motionmapperpy.egg-info\\top_level.txt\n",
      "reading manifest file 'motionmapperpy.egg-info\\SOURCES.txt'\n",
      "adding license file 'LICENSE'\n",
      "writing manifest file 'motionmapperpy.egg-info\\SOURCES.txt'\n",
      "installing library code to build\\bdist.win-amd64\\egg\n",
      "running install_lib\n",
      "running build_py\n",
      "creating build\\bdist.win-amd64\\egg\n",
      "creating build\\bdist.win-amd64\\egg\\motionmapperpy\n",
      "copying build\\lib\\motionmapperpy\\mmutils.py -> build\\bdist.win-amd64\\egg\\motionmapperpy\n",
      "copying build\\lib\\motionmapperpy\\motionmapper.py -> build\\bdist.win-amd64\\egg\\motionmapperpy\n",
      "copying build\\lib\\motionmapperpy\\setrunparameters.py -> build\\bdist.win-amd64\\egg\\motionmapperpy\n",
      "copying build\\lib\\motionmapperpy\\wavelet.py -> build\\bdist.win-amd64\\egg\\motionmapperpy\n",
      "copying build\\lib\\motionmapperpy\\wshed.py -> build\\bdist.win-amd64\\egg\\motionmapperpy\n",
      "copying build\\lib\\motionmapperpy\\__init__.py -> build\\bdist.win-amd64\\egg\\motionmapperpy\n",
      "byte-compiling build\\bdist.win-amd64\\egg\\motionmapperpy\\mmutils.py to mmutils.cpython-39.pyc\n",
      "byte-compiling build\\bdist.win-amd64\\egg\\motionmapperpy\\motionmapper.py to motionmapper.cpython-39.pyc\n",
      "byte-compiling build\\bdist.win-amd64\\egg\\motionmapperpy\\setrunparameters.py to setrunparameters.cpython-39.pyc\n",
      "byte-compiling build\\bdist.win-amd64\\egg\\motionmapperpy\\wavelet.py to wavelet.cpython-39.pyc\n",
      "byte-compiling build\\bdist.win-amd64\\egg\\motionmapperpy\\wshed.py to wshed.cpython-39.pyc\n",
      "byte-compiling build\\bdist.win-amd64\\egg\\motionmapperpy\\__init__.py to __init__.cpython-39.pyc\n",
      "creating build\\bdist.win-amd64\\egg\\EGG-INFO\n",
      "copying motionmapperpy.egg-info\\PKG-INFO -> build\\bdist.win-amd64\\egg\\EGG-INFO\n",
      "copying motionmapperpy.egg-info\\SOURCES.txt -> build\\bdist.win-amd64\\egg\\EGG-INFO\n",
      "copying motionmapperpy.egg-info\\dependency_links.txt -> build\\bdist.win-amd64\\egg\\EGG-INFO\n",
      "copying motionmapperpy.egg-info\\requires.txt -> build\\bdist.win-amd64\\egg\\EGG-INFO\n",
      "copying motionmapperpy.egg-info\\top_level.txt -> build\\bdist.win-amd64\\egg\\EGG-INFO\n",
      "creating 'dist\\motionmapperpy-1.0-py3.9.egg' and adding 'build\\bdist.win-amd64\\egg' to it\n",
      "removing 'build\\bdist.win-amd64\\egg' (and everything under it)\n",
      "Processing motionmapperpy-1.0-py3.9.egg\n",
      "Removing c:\\users\\18313\\anaconda3\\lib\\site-packages\\motionmapperpy-1.0-py3.9.egg\n",
      "C:\\Users\\18313\\MonkeyTestRepo\n"
     ]
    },
    {
     "name": "stderr",
     "output_type": "stream",
     "text": [
      "C:\\Users\\18313\\anaconda3\\lib\\site-packages\\setuptools\\command\\install.py:34: SetuptoolsDeprecationWarning: setup.py install is deprecated. Use build and pip and other standards-based tools.\n",
      "  warnings.warn(\n",
      "C:\\Users\\18313\\anaconda3\\lib\\site-packages\\setuptools\\command\\easy_install.py:144: EasyInstallDeprecationWarning: easy_install command is deprecated. Use build and pip and other standards-based tools.\n",
      "  warnings.warn(\n",
      "zip_safe flag not set; analyzing archive contents...\n",
      "error: [WinError 32] The process cannot access the file because it is being used by another process: 'c:\\\\users\\\\18313\\\\anaconda3\\\\lib\\\\site-packages\\\\motionmapperpy-1.0-py3.9.egg'\n"
     ]
    }
   ],
   "source": [
    "%cd motionmapperpyOther\n",
    "\n",
    "!python setup.py install\n",
    "\n",
    "%cd ..\n"
   ]
  },
  {
   "cell_type": "code",
   "execution_count": 3,
   "id": "24625779",
   "metadata": {},
   "outputs": [],
   "source": [
    "%load_ext autoreload\n",
    "%autoreload 2"
   ]
  },
  {
   "cell_type": "code",
   "execution_count": 4,
   "id": "f54d05fa",
   "metadata": {},
   "outputs": [],
   "source": [
    "import pandas as pd\n",
    "import numpy as np\n",
    "import pickle \n",
    "\n",
    "import glob, os, sys\n",
    "\n",
    "import time, copy\n",
    "from datetime import datetime\n",
    "import hdf5storage\n",
    "\n",
    "import matplotlib.pyplot as plt\n",
    "from matplotlib.animation import FuncAnimation\n",
    "\n",
    "from tqdm import tqdm \n",
    "\n",
    "from scipy.ndimage import median_filter\n",
    "\n",
    "from matplotlib import rc\n",
    "rc('animation', html='jshtml')\n",
    "\n",
    "from pythonlib.dataset.dataset import Dataset\n",
    "from pythonlib.dataset.dataset_preprocess.general import preprocessDat\n",
    "\n",
    "import motionmapperpy as mmpy\n",
    "\n",
    "from pythonlib.tools.expttools import makeTimeStamp, writeDictToYaml\n",
    "\n",
    "import extraFunctions as ef\n",
    "\n",
    "\n",
    "\n",
    "#add these to testMonkey1\n",
    "from IPython.display import Image\n",
    "import random\n",
    "from pythonlib.drawmodel import strokePlots\n",
    "import math\n",
    "import matplotlib.image as mpimg"
   ]
  },
  {
   "cell_type": "code",
   "execution_count": null,
   "id": "8b8890d8",
   "metadata": {},
   "outputs": [],
   "source": [
    "ts = makeTimeStamp()"
   ]
  },
  {
   "cell_type": "code",
   "execution_count": null,
   "id": "9195521f",
   "metadata": {},
   "outputs": [],
   "source": [
    "projectPath = f'content/trial1_mmpy{ts}'\n",
    "\n",
    "# This creates a project directory structure which will be used to store all motionmappery pipeline\n",
    "# related data in one place.\n",
    "\n",
    "mmpy.createProjectDirectory(projectPath)\n"
   ]
  },
  {
   "cell_type": "code",
   "execution_count": 5,
   "id": "e91377fe",
   "metadata": {},
   "outputs": [],
   "source": [
    "%matplotlib inline"
   ]
  },
  {
   "cell_type": "code",
   "execution_count": 6,
   "id": "2ea2996e",
   "metadata": {},
   "outputs": [],
   "source": [
    "expt = 'gridlinecircle'\n",
    "path_list = [\n",
    "    \"data_030421/Pancho-gridlinecircle-baseline-210824_002447\",\n",
    "    \"data_030421/Pancho-gridlinecircle-circletoline-210828_100027\",\n",
    "    \"data_030421/Pancho-gridlinecircle-linetocircle-210828_100152\",\n",
    "    \"data_030421/Pancho-gridlinecircle-lolli-210903_094051\",\n",
    "]\n",
    "append_list = None"
   ]
  },
  {
   "cell_type": "code",
   "execution_count": 7,
   "id": "8e217b98",
   "metadata": {},
   "outputs": [],
   "source": [
    "parameters = mmpy.setRunParameters()\n"
   ]
  },
  {
   "cell_type": "code",
   "execution_count": 8,
   "id": "87b7655e",
   "metadata": {},
   "outputs": [],
   "source": [
    "# %%%%%%% PARAMETERS TO CHANGE %%%%%%%%%%%%%%%%%%%%%%%%%%%%%%%%%%%%%%%%%%%%%%\n",
    "# These need to be revised everytime you are working with a new dataset. #\n",
    "\n",
    "#parameters.projectPath = projectPath #% Full path to the project directory.\n",
    "\n",
    "\n",
    "parameters.method = 'TSNE' #% We can choose between 'TSNE' or 'UMAP'\n",
    "\n",
    "parameters.minF = 1        #% Minimum frequency for Morlet Wavelet Transform\n",
    "\n",
    "parameters.maxF = 25       #% Maximum frequency for Morlet Wavelet Transform,\n",
    "                           #% usually equal to the Nyquist frequency for your\n",
    "                           #% measurements.\n",
    "\n",
    "parameters.samplingFreq = 100    #% Sampling frequency (or FPS) of data.\n",
    "\n",
    "parameters.numPeriods = 25       #% No. of dyadically spaced frequencies to\n",
    "                                 #% calculate between minF and maxF.\n",
    "comps_above_thresh = 2\n",
    "parameters.pcaModes = comps_above_thresh #% Number of low-d features.\n",
    "\n",
    "parameters.numProcessors = -1     #% No. of processor to use when parallel\n",
    "                                 #% processing for wavelet calculation (if not using GPU)  \n",
    "                                 #% and for re-embedding. -1 to use all cores \n",
    "                                 #% available.\n",
    "\n",
    "parameters.useGPU = -1           #% GPU to use for wavelet calculation, \n",
    "                                 #% set to -1 if GPU not present.\n",
    "#10000\n",
    "parameters.training_numPoints = 10000   #% Number of points in mini-trainings.\n",
    "\n",
    "\n",
    "# %%%%% NO NEED TO CHANGE THESE UNLESS MEMORY ERRORS OCCUR %%%%%%%%%%\n",
    "\n",
    "#5000\n",
    "parameters.trainingSetSize = 5000  #% Total number of training set points to find. \n",
    "                                 #% Increase or decrease based on\n",
    "                                 #% available RAM. For reference, 36k is a \n",
    "                                 #% good number with 64GB RAM.\n",
    "\n",
    "#30000\n",
    "parameters.embedding_batchSize = 30000  #% Lower this if you get a memory error when \n",
    "                                        #% re-embedding points on a learned map.\n",
    "\n",
    "# %%%%%%%%%%%%%%%%%%%%%%%%%%%%%%%%%%%%%%%%%%%%%%%%%%%%%%%%%%%%%%%%%%%%%%%%%%%\n",
    "\n",
    "# %%%%%%% tSNE parameters %%%%%%%%%%%%%%%%%%%%%%%%%%%%%%%%%%%%%%%%%%%%%%\n",
    "\n",
    "#% can be 'barnes_hut' or 'exact'. We'll use barnes_hut for this tutorial for speed.\n",
    "parameters.tSNE_method = 'barnes_hut' \n",
    "\n",
    "# %2^H (H is the transition entropy)\n",
    "parameters.perplexity = 32\n",
    "\n",
    "# %number of neigbors to use when re-embedding\n",
    "parameters.maxNeighbors = 200\n",
    "\n",
    "# %local neighborhood definition in training set creation\n",
    "parameters.kdNeighbors = 5\n",
    "\n",
    "# %t-SNE training set perplexity\n",
    "parameters.training_perplexity = 20\n",
    "\n",
    "#writeDictToYaml(parameters, projectPath+'/parameters.yaml')"
   ]
  },
  {
   "cell_type": "code",
   "execution_count": 9,
   "id": "08ecc56a",
   "metadata": {},
   "outputs": [],
   "source": [
    "projectPath = 'content/trial1_mmpy220727_163509FROMSERVER'"
   ]
  },
  {
   "cell_type": "code",
   "execution_count": 10,
   "id": "9b0f1710",
   "metadata": {},
   "outputs": [],
   "source": [
    "#add this line to see stuff from other files\n",
    "parameters.projectPath = 'content/trial1_mmpy220727_163509FROMSERVER'"
   ]
  },
  {
   "cell_type": "code",
   "execution_count": 11,
   "id": "36485d47",
   "metadata": {
    "scrolled": true
   },
   "outputs": [
    {
     "data": {
      "text/plain": [
       "'content/trial1_mmpy220727_163509FROMSERVER'"
      ]
     },
     "execution_count": 11,
     "metadata": {},
     "output_type": "execute_result"
    }
   ],
   "source": [
    "parameters.projectPath"
   ]
  },
  {
   "cell_type": "code",
   "execution_count": 12,
   "id": "704d636a",
   "metadata": {},
   "outputs": [],
   "source": [
    "# function to get data in the form of array dataTotal\n",
    "def get_dataTotal(D):\n",
    "    # x is the trial index there are 5125 trials so x < 5125\n",
    "    x = 0\n",
    "    # y is the stroke index- we dont know how many strokes r there\n",
    "    y = 0\n",
    "    # i is the index of one time frame of one stroke, \n",
    "    # this index also varies for each trial and stroke\n",
    "    i = 0\n",
    "    #ldataOneStroke = np.array([])\n",
    "    #dataTotal = np.empty([150,1])\n",
    "    ldataOneStroke = []\n",
    "    ldataOneTrial = []\n",
    "    ldataTotal = []\n",
    "    #len(D.Dat)\n",
    "    x=0\n",
    "    for x in range(len(D.Dat)):\n",
    "        y=0\n",
    "        ldataOneTrial = []\n",
    "        for y in range(len(D.Dat.iloc[x][\"strokes_beh\"])):\n",
    "            #print(len(D.Dat.iloc[x][\"strokes_beh\"]))\n",
    "            i=0\n",
    "            ldataOneStroke = []\n",
    "            for i in range(i,len(D.Dat.iloc[x][\"strokes_beh\"][y])):\n",
    "                temp = D.Dat.iloc[x][\"strokes_beh\"][y][i][0:2]\n",
    "                ldataOneStroke.append(temp)\n",
    "            #print(len(ldataOneStroke))\n",
    "            dataOneStroke = np.array(ldataOneStroke)\n",
    "            #print(dataOneStroke)\n",
    "            #ldataOneTrial = np.append(ldataOneTrial,ldataOneStroke)\n",
    "            ldataOneTrial.append(dataOneStroke)\n",
    "        #print(len(ldataOneTrial))    \n",
    "        dataOneTrial = np.array(ldataOneTrial)\n",
    "        ldataTotal.append(dataOneTrial)\n",
    "        #ldataTotal = np.append(ldataTotal,ldataOneTrial)\n",
    "        #dataOneTrial = np.vstack((dataOneTrial, dataOneStroke))\n",
    "    dataTotal = np.array(ldataTotal)\n",
    "    return dataTotal"
   ]
  },
  {
   "cell_type": "code",
   "execution_count": 13,
   "id": "da92b7b2",
   "metadata": {},
   "outputs": [],
   "source": [
    "# function to get list of strokes indexes\n",
    "def get_strokeIndexes(dataTotal):\n",
    "    list_trialstroke = []\n",
    "    for trial, x in enumerate(dataTotal):\n",
    "        #print(len(x))\n",
    "        for strokenum, xx in enumerate(x):\n",
    "            list_trialstroke.append((trial, strokenum))\n",
    "    return list_trialstroke"
   ]
  },
  {
   "cell_type": "code",
   "execution_count": 14,
   "id": "b551e740",
   "metadata": {},
   "outputs": [],
   "source": [
    "# function to get list of \n",
    "# num should not be more than 5125\n",
    "def get_strokes(dataTotal,num):\n",
    "    #ndata = len(dataTotal)\n",
    "    ndata = num\n",
    "\n",
    "    lindependentStrokes = []\n",
    "    for x in range(ndata):\n",
    "        for y in range(len(dataTotal[x])):\n",
    "            temp = dataTotal[x][y]\n",
    "            lindependentStrokes.append(temp)\n",
    "    #independentStrokes = np.array(lindependentStrokes)\n",
    "    return lindependentStrokes"
   ]
  },
  {
   "cell_type": "code",
   "execution_count": null,
   "id": "165dc111",
   "metadata": {},
   "outputs": [],
   "source": [
    "def sub_tsne(parameters):\n",
    "    mmpy.subsampled_tsne_from_projections(parameters, parameters.projectPath)\n",
    "    #print(\"HERE1\") \n"
   ]
  },
  {
   "cell_type": "code",
   "execution_count": null,
   "id": "c27f13c4",
   "metadata": {},
   "outputs": [],
   "source": [
    "def total_tsne(parameters):\n",
    "    #tsne takes 19 mins\n",
    "    tall = time.time()\n",
    "\n",
    "    import h5py\n",
    "    tfolder = parameters.projectPath+'/%s/'%parameters.method\n",
    "\n",
    "    # Loading training data\n",
    "    with h5py.File(tfolder + 'training_data.mat', 'r') as hfile:\n",
    "        trainingSetData = hfile['trainingSetData'][:].T\n",
    "        print()\n",
    "\n",
    "    # Loading training embedding\n",
    "    with h5py.File(tfolder+ 'training_embedding.mat', 'r') as hfile:\n",
    "        trainingEmbedding= hfile['trainingEmbedding'][:].T\n",
    "\n",
    "    if parameters.method == 'TSNE':\n",
    "        zValstr = 'zVals' \n",
    "    else:\n",
    "        zValstr = 'uVals'\n",
    "\n",
    "\n",
    "\n",
    "    projectionFiles = glob.glob(parameters.projectPath+'/Projections/*notpca.mat')\n",
    "\n",
    "\n",
    "\n",
    "    for i in range(len(projectionFiles)):\n",
    "        print('Finding Embeddings')\n",
    "        t1 = time.time()\n",
    "        print('%i/%i : %s'%(i+1,len(projectionFiles), projectionFiles[i]))\n",
    "\n",
    "\n",
    "        # Skip if embeddings already found.\n",
    "        if os.path.exists(projectionFiles[i][:-4] +'_%s.mat'%(zValstr)):\n",
    "            print('Already done. Skipping.\\n')\n",
    "            continue\n",
    "\n",
    "        # load projections for a dataset\n",
    "        #modifying adding np.array\n",
    "        projections = np.array(hdf5storage.loadmat(projectionFiles[i])['projections'])\n",
    "\n",
    "        # Find Embeddings\n",
    "        zValues, outputStatistics, wlets = mmpy.findEmbeddings(projections,trainingSetData,trainingEmbedding,parameters)\n",
    "        \n",
    "        #print(zValues.shape())\n",
    "        print(type(zValues))\n",
    "\n",
    "        # Save embeddings\n",
    "        hdf5storage.write(data = {'zValues':zValues}, path = '/', truncate_existing = True,\n",
    "                        filename = projectionFiles[i][:-4]+'_%s.mat'%(zValstr), store_python_metadata = False,\n",
    "                          matlab_compatible = True)\n",
    "        \n",
    "        \n",
    "        # Saving wlets from total data\n",
    "        hdf5storage.write(data = {'wavelets': wlets}, path = '/', truncate_existing = True,\n",
    "                        filename = projectionFiles[i][:-4]+'_%s.mat'%('wlets'), store_python_metadata = False,\n",
    "                          matlab_compatible = True)\n",
    "        \n",
    "\n",
    "        # Save output statistics\n",
    "        with open(projectionFiles[i][:-4] + '_%s_outputStatistics.pkl'%(zValstr), 'wb') as hfile:\n",
    "            pickle.dump(outputStatistics, hfile)\n",
    "\n",
    "        del zValues,projections,outputStatistics\n",
    "\n",
    "\n",
    "    print('All Embeddings Saved in %i seconds!'%(time.time()-tall))"
   ]
  },
  {
   "cell_type": "code",
   "execution_count": null,
   "id": "ae3f633e",
   "metadata": {},
   "outputs": [],
   "source": [
    "import h5py\n",
    "tfolder = parameters.projectPath+'/%s/'%parameters.method\n",
    "\n",
    "with h5py.File(tfolder + 'training_data.mat', 'r') as hfile:\n",
    "        trainingSetData = hfile['trainingSetData'][:].T"
   ]
  },
  {
   "cell_type": "code",
   "execution_count": null,
   "id": "543ec29d",
   "metadata": {},
   "outputs": [],
   "source": [
    "fig, axes = plt.subplots(1,1)\n",
    "axes.plot(trainingSetData[4000].T)\n"
   ]
  },
  {
   "cell_type": "code",
   "execution_count": null,
   "id": "a054ec84",
   "metadata": {},
   "outputs": [],
   "source": [
    "trainingSetData[0]"
   ]
  },
  {
   "cell_type": "code",
   "execution_count": null,
   "id": "3141fdf6",
   "metadata": {},
   "outputs": [],
   "source": [
    "a =round(5000/18810)"
   ]
  },
  {
   "cell_type": "code",
   "execution_count": null,
   "id": "3f02579b",
   "metadata": {},
   "outputs": [],
   "source": [
    "a"
   ]
  },
  {
   "cell_type": "code",
   "execution_count": null,
   "id": "fb998496",
   "metadata": {},
   "outputs": [],
   "source": [
    "a = np.arange(5000)+(5000*60)"
   ]
  },
  {
   "cell_type": "code",
   "execution_count": null,
   "id": "d92ce349",
   "metadata": {},
   "outputs": [],
   "source": [
    "a"
   ]
  },
  {
   "cell_type": "code",
   "execution_count": null,
   "id": "54f61879",
   "metadata": {},
   "outputs": [],
   "source": []
  },
  {
   "cell_type": "code",
   "execution_count": null,
   "id": "23ae5a87",
   "metadata": {},
   "outputs": [],
   "source": [
    "projectionFiles = glob.glob(parameters.projectPath+'/Projections/*notpca.mat')"
   ]
  },
  {
   "cell_type": "code",
   "execution_count": null,
   "id": "a28d89c6",
   "metadata": {
    "scrolled": true
   },
   "outputs": [],
   "source": [
    "pro = np.array(hdf5storage.loadmat(projectionFiles[0])['projections'])"
   ]
  },
  {
   "cell_type": "code",
   "execution_count": null,
   "id": "e3e44d1d",
   "metadata": {
    "scrolled": false
   },
   "outputs": [],
   "source": [
    "D = Dataset(path_list, append_list)"
   ]
  },
  {
   "cell_type": "code",
   "execution_count": null,
   "id": "ad3b1c33",
   "metadata": {},
   "outputs": [],
   "source": [
    "dataTotal = get_dataTotal(D)"
   ]
  },
  {
   "cell_type": "code",
   "execution_count": null,
   "id": "bca411ad",
   "metadata": {},
   "outputs": [],
   "source": [
    "list_trialstroke = get_strokeIndexes(dataTotal)"
   ]
  },
  {
   "cell_type": "code",
   "execution_count": null,
   "id": "03840d85",
   "metadata": {},
   "outputs": [],
   "source": [
    "projections = get_strokes(dataTotal,10)\n"
   ]
  },
  {
   "cell_type": "code",
   "execution_count": null,
   "id": "ea9e4b75",
   "metadata": {},
   "outputs": [],
   "source": [
    "print('%s/Projections/test_monkey_notpca.mat'%(projectPath))\n"
   ]
  },
  {
   "cell_type": "code",
   "execution_count": null,
   "id": "8fd78f7b",
   "metadata": {},
   "outputs": [],
   "source": [
    "hdf5storage.savemat('%s/Projections/test_monkey_notpca.mat'%(projectPath), {\"projections\" : projections})\n",
    "\n",
    "#projectionFiles = glob.glob(parameters.projectPath+'/Projections/*test_monkey_notPCA.mat')"
   ]
  },
  {
   "cell_type": "code",
   "execution_count": null,
   "id": "5ec7aeaf",
   "metadata": {
    "scrolled": true
   },
   "outputs": [],
   "source": [
    "parameters"
   ]
  },
  {
   "cell_type": "code",
   "execution_count": null,
   "id": "4c87107c",
   "metadata": {
    "scrolled": true
   },
   "outputs": [],
   "source": [
    "sub_tsne(parameters)"
   ]
  },
  {
   "cell_type": "code",
   "execution_count": null,
   "id": "f1eccefa",
   "metadata": {},
   "outputs": [],
   "source": []
  },
  {
   "cell_type": "code",
   "execution_count": null,
   "id": "de7df73b",
   "metadata": {},
   "outputs": [],
   "source": [
    "trainy.shape"
   ]
  },
  {
   "cell_type": "code",
   "execution_count": 15,
   "id": "aaa2eea6",
   "metadata": {},
   "outputs": [
    {
     "data": {
      "text/plain": [
       "<matplotlib.image.AxesImage at 0x15ea7e09040>"
      ]
     },
     "execution_count": 15,
     "metadata": {},
     "output_type": "execute_result"
    },
    {
     "data": {
      "image/png": "[encoded data removed]",
      "text/plain": [
       "<Figure size 864x432 with 2 Axes>"
      ]
     },
     "metadata": {
      "needs_background": "light"
     },
     "output_type": "display_data"
    }
   ],
   "source": [
    "trainy = hdf5storage.loadmat('%s/%s/training_embedding.mat'%(parameters.projectPath, parameters.method))['trainingEmbedding']\n",
    "m = np.abs(trainy).max()\n",
    "\n",
    "\n",
    "sigma=2.0\n",
    "_, xx, density = mmpy.findPointDensity(trainy, sigma, 511, [-m-20, m+20])\n",
    "\n",
    "\n",
    "fig, axes = plt.subplots(1, 2, figsize=(12,6))\n",
    "axes[0].scatter(trainy[:,0], trainy[:,1], marker='.', c=np.arange(trainy.shape[0]), s=1)\n",
    "axes[0].set_xlim([-m-20, m+20])\n",
    "axes[0].set_ylim([-m-20, m+20])\n",
    "\n",
    "axes[1].imshow(density, cmap=mmpy.gencmap(), extent=(xx[0], xx[-1], xx[0], xx[-1]), origin='lower')"
   ]
  },
  {
   "cell_type": "code",
   "execution_count": null,
   "id": "26e690e4",
   "metadata": {
    "scrolled": true
   },
   "outputs": [],
   "source": [
    "total_tsne(parameters)"
   ]
  },
  {
   "cell_type": "code",
   "execution_count": null,
   "id": "504ccfae",
   "metadata": {},
   "outputs": [],
   "source": [
    "import multiprocessing as mp"
   ]
  },
  {
   "cell_type": "code",
   "execution_count": null,
   "id": "f8cc61e4",
   "metadata": {},
   "outputs": [],
   "source": [
    "numProcessors = mp.cpu_count()"
   ]
  },
  {
   "cell_type": "code",
   "execution_count": null,
   "id": "02b2fb7f",
   "metadata": {
    "scrolled": true
   },
   "outputs": [],
   "source": [
    "pool = mp.Pool(numProcessors)"
   ]
  },
  {
   "cell_type": "code",
   "execution_count": null,
   "id": "72fada90",
   "metadata": {},
   "outputs": [],
   "source": [
    "pool.starmap()"
   ]
  },
  {
   "cell_type": "code",
   "execution_count": 17,
   "id": "7577636f",
   "metadata": {},
   "outputs": [],
   "source": [
    "zValstr = 'zVals'"
   ]
  },
  {
   "cell_type": "code",
   "execution_count": null,
   "id": "593eb1a4",
   "metadata": {},
   "outputs": [],
   "source": [
    "glob.glob(parameters.projectPath+'/Projections/*_%s.mat'%(zValstr))"
   ]
  },
  {
   "cell_type": "code",
   "execution_count": null,
   "id": "d5d9a674",
   "metadata": {},
   "outputs": [],
   "source": [
    "zV = hdf5storage.loadmat(glob.glob(parameters.projectPath+'/Projections/*_%s.mat'%(zValstr))[0])['zValues']"
   ]
  },
  {
   "cell_type": "code",
   "execution_count": null,
   "id": "0a5ac28e",
   "metadata": {},
   "outputs": [],
   "source": [
    "zV[0][1][0]"
   ]
  },
  {
   "cell_type": "code",
   "execution_count": null,
   "id": "b6aafdf8",
   "metadata": {},
   "outputs": [],
   "source": [
    "#function to take zValues array and make an accessible array\n",
    "def get_zValues_array(zV):\n",
    "    zValues = []\n",
    "    for i in range(len(zV)):\n",
    "        item = zV[i][0]\n",
    "        zValues.append(item)\n",
    "    return zValues\n",
    "        "
   ]
  },
  {
   "cell_type": "code",
   "execution_count": null,
   "id": "24da7760",
   "metadata": {},
   "outputs": [],
   "source": [
    "ally.shape"
   ]
  },
  {
   "cell_type": "code",
   "execution_count": null,
   "id": "ee398806",
   "metadata": {},
   "outputs": [],
   "source": [
    "parameters"
   ]
  },
  {
   "cell_type": "code",
   "execution_count": null,
   "id": "97b79a75",
   "metadata": {},
   "outputs": [],
   "source": [
    "zValstr"
   ]
  },
  {
   "cell_type": "code",
   "execution_count": null,
   "id": "6270e011",
   "metadata": {
    "scrolled": true
   },
   "outputs": [
    {
     "name": "stdout",
     "output_type": "stream",
     "text": [
      "a\n"
     ]
    }
   ],
   "source": [
    "# load all the embeddings\n",
    "#for i in glob.glob(parameters.projectPath+'/Projections/*_%s.mat'%(zValstr)):\n",
    "#    ally = hdf5storage.loadmat(i)['zValues']\n",
    "'''\n",
    "ally = hdf5storage.loadmat(glob.glob(parameters.projectPath+'/Projections/*_%s.mat'%(zValstr))[0])['zValues'][0]\n",
    "\n",
    "\n",
    "ally = get_zValues_array(ally)\n",
    "ally = np.array(ally)\n",
    "'''\n",
    "\n",
    "ally = ef.get_zValues_array(parameters, zValstr)\n",
    "\n",
    "m = np.abs(ally).max()\n",
    "\n",
    "sigma=2.0\n",
    "_, xx, density = mmpy.findPointDensity(ally, sigma, 511, [-m-20, m+20])\n",
    "\n",
    "\n",
    "fig, axes = plt.subplots(1, 2, figsize=(12,6))\n",
    "axes[0].scatter(ally[:,0], ally[:,1], marker='.', c=np.arange(ally.shape[0]), s=1)\n",
    "axes[0].set_xlim([-m-20, m+20])\n",
    "axes[0].set_ylim([-m-20, m+20])\n",
    "\n",
    "axes[1].imshow(density, cmap=mmpy.gencmap(), extent=(xx[0], xx[-1], xx[0], xx[-1]), origin='lower')\n",
    "\n",
    "\n"
   ]
  },
  {
   "cell_type": "code",
   "execution_count": null,
   "id": "72428dc7",
   "metadata": {},
   "outputs": [],
   "source": [
    "ally.shape"
   ]
  },
  {
   "cell_type": "code",
   "execution_count": null,
   "id": "124f9762",
   "metadata": {},
   "outputs": [],
   "source": []
  },
  {
   "cell_type": "code",
   "execution_count": null,
   "id": "4aa21cf0",
   "metadata": {},
   "outputs": [],
   "source": []
  },
  {
   "cell_type": "code",
   "execution_count": null,
   "id": "1e6d6cc5",
   "metadata": {},
   "outputs": [],
   "source": []
  },
  {
   "cell_type": "code",
   "execution_count": null,
   "id": "9613f78a",
   "metadata": {},
   "outputs": [],
   "source": []
  },
  {
   "cell_type": "code",
   "execution_count": null,
   "id": "c8d33733",
   "metadata": {},
   "outputs": [],
   "source": []
  },
  {
   "cell_type": "code",
   "execution_count": null,
   "id": "1e472fe2",
   "metadata": {},
   "outputs": [],
   "source": [
    "# function to divide the strokes in areas\n",
    "def divide_strokes(zValues, num, origin):\n",
    "    #xs = zValues[:,0]\n",
    "    #arrx = np.linspace(xs.min(), xs.max(), num)\n",
    "    #print(origin)\n",
    "    arrx = np.linspace(origin, -origin, num)\n",
    "    #print(arrx[0])\n",
    "    #ys = zValues[:,1]\n",
    "    #arry = np.linspace(ys.min(), ys.max(), num)\n",
    "    arry = np.linspace(-origin, origin, num)\n",
    "    #print(arry)\n",
    "    return arrx, arry"
   ]
  },
  {
   "cell_type": "code",
   "execution_count": null,
   "id": "a49f3d5c",
   "metadata": {},
   "outputs": [],
   "source": [
    "# function to choose an stroke from the index list and return it\n",
    "def choose_stroke(lsindex):\n",
    "    import random\n",
    "    r = random.randint(0, len(lsindex)-1)\n",
    "    return lsindex[r]"
   ]
  },
  {
   "cell_type": "code",
   "execution_count": null,
   "id": "a32076e1",
   "metadata": {},
   "outputs": [],
   "source": [
    "# function to return array of indexes of the strokes contained in a certain grid of density\n",
    "def strokes_in_area(zValues,arrx, arry, nx, ny):\n",
    "    #print(\"ZVALUES:\")\n",
    "    #print(zValues)\n",
    "    lsindex = []\n",
    "    #nx = nare\n",
    "    #ny = -1 -narea\n",
    "    upx = arrx[nx+1]\n",
    "    #print(\"upx\",upx)\n",
    "    lwx = arrx[nx]\n",
    "    #print(\"lwx\",lwx)\n",
    "    upy = arry[ny]\n",
    "    #print(\"upy\", upy)\n",
    "    lwy = arry[ny+1]\n",
    "    #print(\"lwy\", lwy)\n",
    " \n",
    "    for i in range(len(zValues)):\n",
    "        if (zValues[i][0]<=upx and zValues[i][0]>lwx and zValues[i][1]<=upy and zValues[i][1]>lwy):\n",
    "            #print(i)\n",
    "            #print(narea)\n",
    "            #print(\"arrx\",arrx[nx+1])\n",
    "            #print(\"arry\", arry[nx])\n",
    "            #print(zValues[i])\n",
    "            lsindex.append(zValues[i])\n",
    "    return lsindex"
   ]
  },
  {
   "cell_type": "code",
   "execution_count": null,
   "id": "9b299524",
   "metadata": {},
   "outputs": [],
   "source": [
    "# function to plot a single stroke given the index and ax in the subplot\n",
    "def plot_stroke(indx, ax):\n",
    "    #print(indx)\n",
    "    trial, strokenum = list_trialstroke[indx]\n",
    "    g = D.Dat.iloc[trial][\"strokes_beh\"][strokenum]\n",
    "    strokePlots.plotDatStrokes([g],ax, clean_ordered= True)"
   ]
  },
  {
   "cell_type": "code",
   "execution_count": null,
   "id": "19f17616",
   "metadata": {},
   "outputs": [],
   "source": [
    "# function to get index given the array stroke\n",
    "def get_sindex(zValues, arrst):\n",
    "    indx = np.where(np.all(zValues==arrst, axis=1))\n",
    "    if len(indx[0]>1):\n",
    "        return indx[random.randint(0, len(indx)-1)][0]\n",
    "    else:\n",
    "        return indx[0]"
   ]
  },
  {
   "cell_type": "code",
   "execution_count": null,
   "id": "018749f4",
   "metadata": {},
   "outputs": [],
   "source": [
    "# graphing\n",
    "#fig, axes = plt.subplots(1, 1, figsize=(10,5))\n",
    "'''\n",
    "for i in glob.glob(parameters.projectPath+'/Projections/*_%s.mat'%(zValstr)):\n",
    "    zValues = hdf5storage.loadmat(i)['zValues']\n",
    "\n",
    "m = np.abs(zValues).max()\n",
    "'''\n",
    "#already have this\n",
    "#zValues = ef.get_zValues_array(parameters, zValstr)\n",
    "zValues = ally\n",
    "#already have this\n",
    "#m = np.abs(zValues).max()\n",
    "\n",
    "#sigma=1.0\n",
    "#_, xx, density = mmpy.findPointDensity(zValues, sigma, 511, [-m-15, m+15])\n",
    "\n",
    "#axes.imshow(density, cmap=mmpy.gencmap(), extent=(xx[0], xx[-1], xx[0], xx[-1]), origin='lower')\n",
    "\n",
    "#axes.axis('off')\n",
    "#axes[0].set_title('Method : %s'%parameters.method)\n",
    "\n",
    "#sc = axes.scatter([],[],marker='o', color='k', s=5)\n",
    "\n",
    "#idx = 9\n",
    "#trial,strokenum = list_trialstroke[idx]\n",
    "#s = D.Dat.iloc[trial][\"strokes_beh\"][strokenum]\n",
    "#D.plotMultStrokes([[s]])\n",
    "#fig, axes = plt.subplots(1, 1, figsize=(10,5))\n",
    "#axes.imshow(density, cmap=mmpy.gencmap(), extent=(xx[0], xx[-1], xx[0], xx[-1]), origin='lower')\n",
    "\n",
    "'''\n",
    "ax00\n",
    "ax02 x = -40, y = 60\n",
    "ax03 x = -20, y = 60\n",
    "ax04 x = 0, y = 60\n",
    "ax05\n",
    "ax06\n",
    "ax07\n",
    "ax12 x = -40, y = 40\n",
    "ax13\n",
    "\n",
    ".\n",
    ".\n",
    "ax57\n",
    "'''\n",
    "\n",
    "uplim = round((xx[-1]),-1)\n",
    "\n",
    "#print(uplim)\n",
    "\n",
    "rows = int(uplim/10)\n",
    "\n",
    "#print(rows)\n",
    "\n",
    "dcol = int(round(rows/3))\n",
    "\n",
    "#print(dcol)\n",
    "\n",
    "cols = rows +dcol\n",
    "\n",
    "#print(cols)\n",
    "\n",
    "fig, axes = plt.subplots(rows, cols, figsize=(40,10))\n",
    "\n",
    "ax00 = plt.subplot2grid((rows,cols),(0,0),rowspan=rows, colspan=dcol)\n",
    "\n",
    "ax00.imshow(density, cmap=mmpy.gencmap(), extent=(xx[0],xx[-1],xx[0], xx[-1]), origin='lower')\n",
    "#ax00.grid()\n",
    "#print(rows)\n",
    "#print(cols)\n",
    "#print(dcol)\n",
    "arrx, arry = divide_strokes(zValues, rows+1, xx[0])\n",
    "\n",
    "ax00.set_xticks(arrx)\n",
    "ax00.set_yticks(arry)\n",
    "\n",
    "ax00.grid()\n",
    "#print(arrx)\n",
    "#print(arry)\n",
    "\n",
    "#keep calling functions to plot stuff\n",
    "for r in range(rows):\n",
    "    for c in range(dcol, cols):\n",
    "      #print(i)\n",
    "       #print(r)\n",
    "         #print(c)\n",
    "        ax = plt.subplot2grid((rows, cols,), (r,c))\n",
    "        #y = int(uplim - r*20)\n",
    "        #print(y)\n",
    "        #x = int(-uplim + (c-1)*20)\n",
    "        #print(x)\n",
    "        ls = strokes_in_area(zValues, arrx, arry, c-dcol, r)\n",
    "        #print(ls)\n",
    "        if (len(ls)>0):\n",
    "            st = choose_stroke(ls)\n",
    "            #print(st)\n",
    "            idx = get_sindex(zValues, st)\n",
    "            #print(idx[0])\n",
    "            plot_stroke(idx, ax)\n",
    "\n",
    "\n",
    "'''\n",
    "ax02 = plt.subplot2grid((6,8),(0,2),colspan=1)\n",
    "plot_stroke(3,ax02)\n",
    "\n",
    "ax03 = plt.subplot2grid((6,8),(0,3),colspan=1)\n",
    "plot_stroke(4,ax03)\n",
    "\n",
    "ax04 = plt.subplot2grid((6,8),(0,4),colspan=1)\n",
    "plot_stroke(13,ax04)\n",
    "\n",
    "ax05 = plt.subplot2grid((6,8),(0,5),colspan=1)\n",
    "plot_stroke(15,ax05)\n",
    "\n",
    "\n",
    "ax06 = plt.subplot2grid((6,8),(0,6),colspan=1)\n",
    "plot_stroke(17,ax06)\n",
    "\n",
    "\n",
    "ax07 = plt.subplot2grid((6,8),(0,7),colspan=1)\n",
    "plot_stroke(19,ax07)\n",
    "\n",
    "ax12 = plt.subplot2grid((6,8),(1,2),colspan=1)\n",
    "plot_stroke(23,ax13)\n",
    "'''\n",
    "plt.tight_layout()  \n",
    "\n",
    "plt.show()\n",
    "\n",
    "\n",
    "\n",
    "'''\n",
    "def show_stroke(z):\n",
    "    fig, axes = plt.subplots(1, 1, figsize=(10,5))\n",
    "    axes.imshow(density, cmap=mmpy.gencmap(), extent=(xx[0], xx[-1], xx[0], xx[-1]), origin='lower')\n",
    "    sc = axes.scatter([],[],marker='o', color='k', s=3)\n",
    "    idx = z\n",
    "    trial,strokenum = list_trialstroke[z]\n",
    "    s = D.Dat.iloc[trial][\"strokes_beh\"][strokenum]\n",
    "    D.plotMultStrokes([[s]])\n",
    "    sc.set_offsets(zValues[z])\n",
    "\n",
    "\n",
    "    for z in range (len(zValues)):\n",
    "        idx = z\n",
    "        trial,strokenum = list_trialstroke[z]\n",
    "        s = D.Dat.iloc[trial][\"strokes_beh\"][strokenum]\n",
    "        D.plotMultStrokes([[s]])\n",
    "        sc.set_offsets(zValues[z])\n",
    "\n",
    "\n",
    "def showing(t):    \n",
    "    for z in range(len(zValues)):\n",
    "        show_stroke(z)\n",
    "\n",
    "'''\n",
    "\n",
    "\n",
    "\n",
    "#anim = VideoClip(animate, duration=2)\n",
    "#plt.close()\n",
    "#anim.ipython_display(fps=15, loop=True, autoplay=True, maxduration=120)\n",
    "\n",
    "\n",
    "\n",
    "'''\n",
    "h5ind = 0\n",
    "tstart = 0\n",
    "connections = [np.arange(6,10), np.arange(10,14), np.arange(14,18), np.arange(18,22), np.arange(22,26), np.arange(26,30),\n",
    "              [2,0,1],[0,3,4,5], [31,3,30]]\n",
    "\n",
    "def animate(t):\n",
    "  t = int(t*clips[h5ind].fps)+tstart\n",
    "  axes[1].clear()\n",
    "  im = axes[1].imshow(clips[h5ind].get_frame(t/clips[h5ind].fps), cmap='Greys', origin='lower')\n",
    "  for conn in connections:\n",
    "      axes[1].plot(h5s[h5ind][t, conn, 0], h5s[h5ind][t, conn, 1], 'k-')\n",
    "  axes[1].axis('off')\n",
    "  sc.set_offsets(zValues[20000*h5ind+t])\n",
    "  return mplfig_to_npimage(fig) #im, ax\n",
    "\n",
    "\n",
    "anim = VideoClip(animate, duration=2) # will throw memory error for more than 100.\n",
    "plt.close()\n",
    "anim.ipython_display(fps=15, loop=True, autoplay=True, maxduration=120)\n",
    "\n",
    "'''"
   ]
  },
  {
   "cell_type": "code",
   "execution_count": null,
   "id": "ef4ad07f",
   "metadata": {
    "scrolled": true
   },
   "outputs": [],
   "source": [
    "parameters.projectPath"
   ]
  },
  {
   "cell_type": "code",
   "execution_count": null,
   "id": "e992d83b",
   "metadata": {
    "scrolled": true
   },
   "outputs": [],
   "source": [
    "# watershed things\n",
    "#modifying startsigma because 4.2 was too high\n",
    "#modifying minimum_regions because 50 was too high\n",
    "startsigma = 1.0 if parameters.method == 'TSNE' else 2.0\n",
    "mmpy.findWatershedRegions(parameters, minimum_regions=50, startsigma=startsigma, pThreshold=[0.33, 0.67],\n",
    "                     saveplot=True, endident = '*_notpca.mat')\n",
    "\n",
    "Image(glob.glob('%s/%s/zWshed*.png'%(parameters.projectPath, parameters.method))[0])"
   ]
  },
  {
   "cell_type": "code",
   "execution_count": null,
   "id": "73f7d58b",
   "metadata": {},
   "outputs": [],
   "source": [
    "# function to return array of indexes of the strokes contained in a certain grid of density\n",
    "def wstrokes_in_area(zValues,wregions,nr):\n",
    "    lsindex = []\n",
    "    for i in range(len(zValues)):\n",
    "        if (wregions[i] == nr):\n",
    "            lsindex.append(zValues[i])\n",
    "    return lsindex"
   ]
  },
  {
   "cell_type": "code",
   "execution_count": null,
   "id": "86cb6749",
   "metadata": {},
   "outputs": [],
   "source": [
    "# do the same for watershed\n",
    "#from IPython.display import Image\n",
    "#Image(glob.glob('%s/%s/zWshed*.png'%(parameters.projectPath, parameters.method))[0])\n",
    "\n",
    "wshedfile = hdf5storage.loadmat('%s/%s/zVals_wShed_groups.mat'%(parameters.projectPath, parameters.method))\n",
    "\n",
    "wregions = wshedfile[\"indexesWatershedRegions\"][0]\n",
    "\n",
    "nregions = wregions.max()\n",
    "\n",
    "# calculate how many columns and rows\n",
    "# 10 rows and add more columns as needed\n",
    "# figure out how to name plot\n",
    "\n",
    "rows = 5\n",
    "dcol = int(round(rows/1))\n",
    "cols = math.ceil(nregions/rows) + dcol\n",
    "\n",
    "fig, axes = plt.subplots(rows, cols, figsize=(20,10))\n",
    "\n",
    "\n",
    "ax00 = plt.subplot2grid((rows,cols),(0,0),rowspan=rows, colspan=dcol)\n",
    "\n",
    "ax00.imshow(mpimg.imread(glob.glob('%s/%s/zWshed*.png'%(parameters.projectPath, parameters.method))[0]))\n",
    "ax00.axis('off')\n",
    "\n",
    "#ax00.set(xlim=(-60, 60))\n",
    "#ax00.set(ylim = (-60, 60))\n",
    "#ax00.set_xticks(arrx)\n",
    "\n",
    "#sc = ax00.scatter([],[],marker='o', color='k', s=3)\n",
    "#sc.set_offsets(zValues[9])\n",
    "\n",
    "#keep calling functions to plot stuff\n",
    "\n",
    "# for every region\n",
    "# plot one random stroke\n",
    "\n",
    "for r in range(rows):\n",
    "    for c in range(dcol, cols):\n",
    "        nr = (c-dcol)*rows + r + 1\n",
    "        ax = plt.subplot2grid((rows, cols), (r, c))\n",
    "        ls = wstrokes_in_area(zValues, wregions, nr)\n",
    "        if (len(ls)>0):\n",
    "            st = choose_stroke(ls)\n",
    "            idx = get_sindex(zValues, st)\n",
    "            plot_stroke(idx, ax)\n",
    "            ax.set_title('Region '+str(nr))\n",
    "            #ax.title()\n",
    "            \n",
    "\n",
    "        \n",
    "plt.tight_layout()  \n",
    "plt.show()\n",
    "\n",
    "\n",
    "'''\n",
    "#keep calling functions to plot stuff\n",
    "for r in range(rows):\n",
    "    for c in range(dcol, cols):\n",
    "      #print(i)\n",
    "       #print(r)\n",
    "         #print(c)\n",
    "        ax = plt.subplot2grid((rows, cols,), (r,c))\n",
    "        #y = int(uplim - r*20)\n",
    "        #print(y)\n",
    "        #x = int(-uplim + (c-1)*20)\n",
    "        #print(x)\n",
    "        ls = strokes_in_area(zValues, arrx, arry, c-2, r)\n",
    "        #print(ls)\n",
    "        if (len(ls)>0):\n",
    "        \n",
    "            st = choose_stroke(ls)\n",
    "            #print(st)\n",
    "            idx = get_sindex(zValues, st)\n",
    "            #print(idx[0])\n",
    "            plot_stroke(idx, ax)\n",
    "'''\n",
    "#asda\n",
    "'''\n",
    "import glob\n",
    "import matplotlib.pyplot as plt\n",
    "import matplotlib.image as mpimg\n",
    "%matplotlib inline\n",
    "\n",
    "images = []\n",
    "for img_path in glob.glob('folder/*.png'):\n",
    "    images.append(mpimg.imread(img_path))\n",
    "\n",
    "plt.figure(figsize=(20,10))\n",
    "columns = 5\n",
    "for i, image in enumerate(images):\n",
    "    plt.subplot(len(images) / columns + 1, columns, i + 1)\n",
    "    plt.imshow(image)\n",
    "'''"
   ]
  },
  {
   "cell_type": "code",
   "execution_count": null,
   "id": "020f9137",
   "metadata": {},
   "outputs": [],
   "source": [
    "# function to choose sample of strokes from the index list and return it\n",
    "def choose_sample_strokes(lsindex, ni):\n",
    "    if (ni > len(lsindex)):\n",
    "        ni = len(lsindex)\n",
    "    lsample = random.sample(lsindex, ni)\n",
    "    return lsample"
   ]
  },
  {
   "cell_type": "code",
   "execution_count": null,
   "id": "daf19495",
   "metadata": {},
   "outputs": [],
   "source": [
    "def many_strokes_in_region(zValues, wregions, nr, ns):\n",
    "    wshedfile = hdf5storage.loadmat('%s/%s/zVals_wShed_groups.mat'%(parameters.projectPath, parameters.method))\n",
    "    wregions = wshedfile[\"indexesWatershedRegions\"][0]\n",
    "    \n",
    "    ls = wstrokes_in_area(zValues, wregions, nr)\n",
    "    if (len(ls)>0):\n",
    "        lsample = choose_sample_strokes(ls, ns)\n",
    "\n",
    "        nstrokes = len(lsample)\n",
    "\n",
    "        rows = 5\n",
    "        dcol = int(round(rows/1))\n",
    "        cols = math.ceil(nstrokes/rows) + dcol\n",
    "\n",
    "        fig, axes = plt.subplots(rows, cols, figsize=(20,10), sharex=True, sharey=True)\n",
    "\n",
    "\n",
    "        ax00 = plt.subplot2grid((rows,cols),(0,0),rowspan=rows, colspan=dcol)\n",
    "\n",
    "        ax00.imshow(mpimg.imread(glob.glob('%s/%s/zWshed*.png'%(parameters.projectPath, parameters.method))[0]))\n",
    "        ax00.axis('off')\n",
    "        \n",
    "        #print(lsample)\n",
    "        ct = 0\n",
    "        for r in range(rows):\n",
    "            for c in range(dcol, cols):\n",
    "                ax = plt.subplot2grid((rows, cols), (r, c))\n",
    "                ax.set_xlim([-300, 300])\n",
    "                ax.set_ylim([-200,400])\n",
    "                #ax = axes.flatten()[ct]\n",
    "                s = (c-dcol)*rows + r\n",
    "                if (len(lsample)>s):\n",
    "                    if (len(lsample)>0):\n",
    "                        #print(lsample[s])\n",
    "                        st = lsample[s]\n",
    "                    else:\n",
    "                        st = lsample[0]\n",
    "                    idx = get_sindex(zValues, st)\n",
    "                    plot_stroke(idx, ax)\n",
    "                    ax.set_title('Region '+str(nr))\n",
    "                    #ax.title()\n",
    "                    ct=ct+1\n",
    "\n",
    "        plt.tight_layout()  \n",
    "        plt.show()\n",
    "    \n",
    "    \n",
    "    \n",
    "    \n",
    "    \n",
    "    \n",
    "    "
   ]
  },
  {
   "cell_type": "code",
   "execution_count": null,
   "id": "41616b60",
   "metadata": {},
   "outputs": [],
   "source": [
    "many_strokes_in_region(zValues, wregions, 1, 20)"
   ]
  },
  {
   "cell_type": "code",
   "execution_count": null,
   "id": "b6e31540",
   "metadata": {
    "scrolled": true
   },
   "outputs": [],
   "source": [
    "many_strokes_in_region(zValues, wregions, 12, 20)"
   ]
  },
  {
   "cell_type": "code",
   "execution_count": null,
   "id": "47e1761c",
   "metadata": {},
   "outputs": [],
   "source": [
    "many_strokes_in_region(zValues, wregions, 6, 20)"
   ]
  },
  {
   "cell_type": "code",
   "execution_count": null,
   "id": "27afbd8c",
   "metadata": {
    "scrolled": true
   },
   "outputs": [],
   "source": [
    "many_strokes_in_region(zValues, wregions, 28, 20)"
   ]
  },
  {
   "cell_type": "code",
   "execution_count": null,
   "id": "d20af22d",
   "metadata": {
    "scrolled": true
   },
   "outputs": [],
   "source": [
    "many_strokes_in_region(zValues, wregions, 30, 20)"
   ]
  },
  {
   "cell_type": "code",
   "execution_count": null,
   "id": "0f940f3b",
   "metadata": {
    "scrolled": true
   },
   "outputs": [],
   "source": [
    "many_strokes_in_region(zValues, wregions, 41, 20)"
   ]
  },
  {
   "cell_type": "code",
   "execution_count": null,
   "id": "e561c66e",
   "metadata": {
    "scrolled": true
   },
   "outputs": [],
   "source": [
    "many_strokes_in_region(zValues, wregions, 42, 20)"
   ]
  },
  {
   "cell_type": "code",
   "execution_count": null,
   "id": "0b6c9581",
   "metadata": {},
   "outputs": [],
   "source": [
    "many_strokes_in_region(zValues, wregions, 23, 20)"
   ]
  },
  {
   "cell_type": "code",
   "execution_count": null,
   "id": "3248ef4a",
   "metadata": {},
   "outputs": [],
   "source": [
    "many_strokes_in_region(zValues, wregions, 25, 40)"
   ]
  },
  {
   "cell_type": "code",
   "execution_count": null,
   "id": "fe9d0879",
   "metadata": {},
   "outputs": [],
   "source": [
    "many_strokes_in_region(zValues, wregions, 27, 40)"
   ]
  },
  {
   "cell_type": "code",
   "execution_count": null,
   "id": "d35dc71b",
   "metadata": {},
   "outputs": [],
   "source": [
    "zValues.shape"
   ]
  },
  {
   "cell_type": "code",
   "execution_count": null,
   "id": "3dc00535",
   "metadata": {},
   "outputs": [],
   "source": [
    "# function to plot wavelets\n",
    "def plot_wavelet(ax, wlet, freq):\n",
    "    ax.imshow(wlet.T, cmap='PuRd', origin='lower')\n",
    "    ax.set_yticks([0,10,20,30,40,50])\n",
    "    ax.set_yticklabels(['%0.1f'%freq[j] for j in [0,5,10,15,20,24]])\n",
    "\n",
    "    ax.set_ylabel(\"Frequencies (hz)\", fontsize = 14)\n",
    "    ax.set_xlabel('Timepoints', fontsize=14)\n",
    "\n",
    "    \n",
    "    \n",
    "    \n",
    "    \n",
    "    \n",
    "    \n",
    "    "
   ]
  },
  {
   "cell_type": "code",
   "execution_count": null,
   "id": "c7959e9e",
   "metadata": {},
   "outputs": [],
   "source": [
    "wlets, freqs = ef.get_wavelets_and_freqs_array(parameters)"
   ]
  },
  {
   "cell_type": "code",
   "execution_count": null,
   "id": "bb8fb3a0",
   "metadata": {},
   "outputs": [],
   "source": [
    "wlets.T.shape"
   ]
  },
  {
   "cell_type": "code",
   "execution_count": null,
   "id": "0a331999",
   "metadata": {},
   "outputs": [],
   "source": [
    "# function to plot wavelet side to its stroke\n",
    "def strokes_and_wavelets(indx, projections):\n",
    "    rows = len(indx)\n",
    "    fig, axes = plt.subplots(rows, 2, figsize=(20,50))\n",
    "    \n",
    "    for i in range(len(indx)):\n",
    "        wlet, freq = mmpy.findWavelets(projections[indx[i]], parameters.pcaModes, parameters.omega0, parameters.numPeriods, parameters.samplingFreq, parameters.maxF, parameters.minF, parameters.numProcessors, parameters.useGPU)\n",
    "        print(wlet.shape)\n",
    "        print(freq.shape)\n",
    "        ax1 = plt.subplot2grid((rows, 2), (i, 0))\n",
    "        ax2 = plt.subplot2grid((rows, 2), (i, 1))\n",
    "        plot_stroke(indx[i], ax1)\n",
    "        plot_wavelet(ax2, wlet, freq)\n",
    "          \n",
    "'''\n",
    "    wlets, freqs = mmpy.findWavelets(projections[0], parameters.pcaModes, parameters.omega0, parameters.numPeriods, parameters.samplingFreq, parameters.maxF, parameters.minF, parameters.numProcessors, parameters.useGPU)\n",
    "    \n",
    "    axes.imshow(wlets.T, cmap='PuRd', origin='lower')\n",
    "\n",
    "    axes.set_yticks([0,10,20,30,40,50])\n",
    "    axes.set_yticklabels(['%0.1f'%freqs[j] for j in [0,5,10,15,20,24]])\n",
    "\n",
    "    axes.set_ylabel(\"Frequencies (hz)\", fontsize = 14)\n",
    "    axes.set_xlabel('Timepoints', fontsize=14)\n",
    "'''\n",
    "    "
   ]
  },
  {
   "cell_type": "code",
   "execution_count": null,
   "id": "a9bd60dd",
   "metadata": {},
   "outputs": [],
   "source": [
    "lindx = [0,1,2,3,4,5,6,7,8,9]\n",
    "\n",
    "strokes_and_wavelets(lindx, projections)"
   ]
  },
  {
   "cell_type": "code",
   "execution_count": null,
   "id": "04fcad8d",
   "metadata": {
    "scrolled": false
   },
   "outputs": [],
   "source": [
    "lindx = [0,1,2,3,4,5,6,7,8,9]\n",
    "strokes_and_wavelets(lindx, projections)"
   ]
  },
  {
   "cell_type": "code",
   "execution_count": null,
   "id": "d7af15b1",
   "metadata": {},
   "outputs": [],
   "source": [
    "wlets, freqs = mmpy.findWavelets(projections[0], parameters.pcaModes, parameters.omega0, parameters.numPeriods, parameters.samplingFreq, parameters.maxF, parameters.minF, parameters.numProcessors, parameters.useGPU)\n",
    "\n",
    "fig, axes = plt.subplots(1, 1, figsize=(20,18))\n",
    "\n",
    "axes.imshow(wlets.T, cmap='PuRd', origin='lower')\n",
    "\n",
    "axes.set_yticks([0,10,20,30,40,50])\n",
    "axes.set_yticklabels(['%0.1f'%freqs[j] for j in [0,5,10,15,20,24]])\n",
    "\n",
    "axes.set_ylabel(\"Frequencies (hz)\", fontsize = 14)\n",
    "axes.set_xlabel('Timepoints', fontsize=14)\n",
    "\n",
    "#axes.set_yticks([0, 5, 10, 15, 20, 24])\n",
    "#axes.set_yticklabels(['%0.1f'%freqs[j] for j in [0, 5, 10, 15, 20,24,  25]])\n",
    "\n",
    "\n",
    "'''\n",
    "for i, ax in enumerate(axes.flatten()):\n",
    "    ax.imshow(wlets[:300,25*i:25*(i+1)].T, cmap='PuRd', origin='lower')\n",
    "    ax.set_yticks([0, 5, 10, 15, 20, 24])\n",
    "    ax.set_yticklabels(['%0.1f'%freqs[j] for j in [0, 5, 10, 15, 20, 25]])\n",
    "    if i == 3:\n",
    "        ax.set_ylabel(\"Frequencies (hz)\", fontsize=14)\n",
    "    ax.set_title('Projection #%i'%(i+1))\n",
    "ax.set_xlabel('Frames', fontsize=14)\n",
    "\n",
    "\n",
    "\n",
    "wlets, freqs = mmpy.findWavelets(projs_list[0], projs_list[0].shape[1], parameters.omega0, parameters.numPeriods, parameters.samplingFreq, parameters.maxF, parameters.minF, parameters.numProcessors, parameters.useGPU)\n",
    "\n",
    "fig, axes = plt.subplots(y.shape[1], 1, figsize=(20,18))\n",
    "\n",
    "for i, ax in enumerate(axes.flatten()):\n",
    "  ax.imshow(wlets[:300,25*i:25*(i+1)].T, cmap='PuRd', origin='lower')\n",
    "  ax.set_yticks([0, 5, 10, 15, 20, 24])\n",
    "  ax.set_yticklabels(['%0.1f'%freqs[j] for j in [0, 5, 10, 15, 20, 24]])\n",
    "  if i == 3:\n",
    "    ax.set_ylabel(\"Frequencies (hz)\", fontsize=14)\n",
    "  ax.set_title('Projection #%i'%(i+1))\n",
    "ax.set_xlabel('Frames', fontsize=14)\n",
    "\n",
    "\n",
    "'''"
   ]
  },
  {
   "cell_type": "code",
   "execution_count": null,
   "id": "a1569f6c",
   "metadata": {},
   "outputs": [],
   "source": [
    "freqs"
   ]
  },
  {
   "cell_type": "code",
   "execution_count": null,
   "id": "5ed74e9d",
   "metadata": {},
   "outputs": [],
   "source": [
    "fig, axes = plt.subplots(2, 1, figsize=(20,18))\n",
    "            ax = axes.flatten()[0]\n",
    "            ax.imshow(sd.T, cmap='PuRd', origin='lower')"
   ]
  },
  {
   "cell_type": "code",
   "execution_count": null,
   "id": "c1feada8",
   "metadata": {},
   "outputs": [],
   "source": [
    "wlets[10]"
   ]
  },
  {
   "cell_type": "code",
   "execution_count": null,
   "id": "e79aa415",
   "metadata": {},
   "outputs": [],
   "source": []
  },
  {
   "cell_type": "code",
   "execution_count": null,
   "id": "f293a432",
   "metadata": {},
   "outputs": [],
   "source": []
  }
 ],
 "metadata": {
  "kernelspec": {
   "display_name": "Python 3 (ipykernel)",
   "language": "python",
   "name": "python3"
  },
  "language_info": {
   "codemirror_mode": {
    "name": "ipython",
    "version": 3
   },
   "file_extension": ".py",
   "mimetype": "text/x-python",
   "name": "python",
   "nbconvert_exporter": "python",
   "pygments_lexer": "ipython3",
   "version": "3.9.12"
  }
 },
 "nbformat": 4,
 "nbformat_minor": 5
}
