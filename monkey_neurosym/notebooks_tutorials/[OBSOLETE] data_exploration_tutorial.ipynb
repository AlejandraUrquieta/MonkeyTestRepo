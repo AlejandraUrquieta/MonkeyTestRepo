{
 "cells": [
  {
   "cell_type": "code",
   "execution_count": 1,
   "metadata": {},
   "outputs": [
    {
     "data": {
      "text/plain": [
       "' \\nBasic tools for exploring and understanding the monkey drawing data\\nYou will need:\\n- dataset, at https://www.dropbox.com/s/dl8vxw7iav2up8k/data.zip?dl=0\\n-- data.zip contains two datasets (2 monkeys). the example code below is looking at one monkey at a time.\\n- pythonlib (https://github.com/lucast4/pythonlib\\n- pandas, seaborn, and other common packages.\\n'"
      ]
     },
     "execution_count": 1,
     "metadata": {},
     "output_type": "execute_result"
    }
   ],
   "source": [
    "\"\"\" \n",
    "Basic tools for exploring and understanding the monkey drawing data\n",
    "You will need:\n",
    "- dataset, at https://www.dropbox.com/s/dl8vxw7iav2up8k/data.zip?dl=0\n",
    "-- data.zip contains two datasets (2 monkeys). the example code below is looking at one monkey at a time.\n",
    "- pythonlib (https://github.com/lucast4/pythonlib\n",
    "- pandas, seaborn, and other common packages.\n",
    "\n",
    "Slides that summarize the experiment, motivation, and findings:\n",
    "https://docs.google.com/presentation/d/1pg0YQxiqQS9mwe_kU_bcfiIytE4mTc0Xhtz4wISSoE0/edit?usp=sharing (detailed)\n",
    "https://docs.google.com/presentation/d/1xny1pfSBV9HQJOuxs9WaX6CPvg8qMlfuwMqOMGcSK2g/edit?usp=sharing (concise)\n",
    "\"\"\"\n"
   ]
  },
  {
   "cell_type": "code",
   "execution_count": 2,
   "metadata": {},
   "outputs": [],
   "source": [
    "import pandas as pd\n",
    "import pickle \n",
    "\n",
    "# Load\n",
    "SDIR = \"/data2/analyses/database/Red-lines5-formodeling-210309_102050\"\n",
    "\n",
    "dat = pd.read_pickle(f\"{SDIR}/dat.pkl\")\n",
    "with open(f\"{SDIR}/metadat.pkl\", \"rb\") as f:\n",
    "    metadat = pickle.load(f)\n"
   ]
  },
  {
   "cell_type": "markdown",
   "metadata": {},
   "source": [
    "## BASICS"
   ]
  },
  {
   "cell_type": "code",
   "execution_count": 3,
   "metadata": {},
   "outputs": [
    {
     "name": "stdout",
     "output_type": "stream",
     "text": [
      "num segmetns in this trial:\n",
      "2\n",
      "task stimulus\n",
      "[array([[197.04488001, 179.71486519,   0.        ],\n",
      "       [193.42447334, 183.93862643,   1.        ],\n",
      "       [189.80406667, 188.16238766,   2.        ],\n",
      "       [186.18366001, 192.38614889,   3.        ],\n",
      "       [182.56325334, 196.60991013,   4.        ],\n",
      "       [178.94284667, 200.83367136,   5.        ],\n",
      "       [175.32244   , 205.0574326 ,   6.        ],\n",
      "       [171.70203334, 209.28119383,   7.        ],\n",
      "       [168.08162667, 213.50495506,   8.        ],\n",
      "       [164.46122   , 217.7287163 ,   9.        ],\n",
      "       [160.84081333, 221.95247753,  10.        ],\n",
      "       [157.22040667, 226.17623877,  11.        ],\n",
      "       [153.6       , 230.4       ,  12.        ],\n",
      "       [149.97959333, 234.62376123,  13.        ],\n",
      "       [146.35918667, 238.84752247,  14.        ],\n",
      "       [142.73878   , 243.0712837 ,  15.        ],\n",
      "       [139.11837333, 247.29504494,  16.        ],\n",
      "       [135.49796666, 251.51880617,  17.        ],\n",
      "       [131.87756   , 255.7425674 ,  18.        ],\n",
      "       [128.25715333, 259.96632864,  19.        ],\n",
      "       [124.63674666, 264.19008987,  20.        ],\n",
      "       [121.01633999, 268.41385111,  21.        ],\n",
      "       [117.39593333, 272.63761234,  22.        ],\n",
      "       [113.77552666, 276.86137357,  23.        ],\n",
      "       [110.15511999, 281.08513481,  24.        ]]), array([[171.70176737, 251.51911647,  25.        ],\n",
      "       [167.52659472, 246.64799225,  26.        ],\n",
      "       [163.35142208, 241.77686804,  27.        ],\n",
      "       [159.17624944, 236.90574383,  28.        ],\n",
      "       [155.00107679, 232.03461961,  29.        ],\n",
      "       [150.82590415, 227.1634954 ,  30.        ],\n",
      "       [146.65073151, 222.29237119,  31.        ],\n",
      "       [142.47555886, 217.42124698,  32.        ],\n",
      "       [138.30038622, 212.55012276,  33.        ],\n",
      "       [134.12521358, 207.67899855,  34.        ],\n",
      "       [129.95004093, 202.80787434,  35.        ],\n",
      "       [125.77486829, 197.93675012,  36.        ],\n",
      "       [121.59969565, 193.06562591,  37.        ],\n",
      "       [117.424523  , 188.1945017 ,  38.        ],\n",
      "       [113.24935036, 183.32337749,  39.        ],\n",
      "       [109.07417772, 178.45225327,  40.        ],\n",
      "       [104.89900507, 173.58112906,  41.        ],\n",
      "       [100.72383243, 168.71000485,  42.        ],\n",
      "       [ 96.54865979, 163.83888063,  43.        ],\n",
      "       [ 92.37348715, 158.96775642,  44.        ],\n",
      "       [ 88.1983145 , 154.09663221,  45.        ],\n",
      "       [ 84.02314186, 149.225508  ,  46.        ],\n",
      "       [ 79.84796922, 144.35438378,  47.        ],\n",
      "       [ 75.67279657, 139.48325957,  48.        ],\n",
      "       [ 71.49762393, 134.61213536,  49.        ]]), array([[171.70160565, 251.51892779,  50.        ],\n",
      "       [175.37061306, 247.2385292 ,  51.        ],\n",
      "       [179.03962047, 242.95813062,  52.        ],\n",
      "       [182.70862788, 238.67773204,  53.        ],\n",
      "       [186.37763529, 234.39733345,  54.        ],\n",
      "       [190.0466427 , 230.11693487,  55.        ],\n",
      "       [193.71565011, 225.83653628,  56.        ],\n",
      "       [197.38465752, 221.5561377 ,  57.        ],\n",
      "       [201.05366493, 217.27573911,  58.        ],\n",
      "       [204.72267234, 212.99534053,  59.        ],\n",
      "       [208.39167975, 208.71494195,  60.        ],\n",
      "       [212.06068716, 204.43454336,  61.        ],\n",
      "       [215.72969457, 200.15414478,  62.        ],\n",
      "       [219.39870198, 195.87374619,  63.        ],\n",
      "       [223.06770939, 191.59334761,  64.        ],\n",
      "       [226.7367168 , 187.31294902,  65.        ],\n",
      "       [230.40572421, 183.03255044,  66.        ],\n",
      "       [234.07473162, 178.75215186,  67.        ],\n",
      "       [237.74373903, 174.47175327,  68.        ],\n",
      "       [241.41274644, 170.19135469,  69.        ],\n",
      "       [245.08175385, 165.9109561 ,  70.        ],\n",
      "       [248.75076126, 161.63055752,  71.        ],\n",
      "       [252.41976867, 157.35015893,  72.        ],\n",
      "       [256.08877608, 153.06976035,  73.        ],\n",
      "       [259.75778349, 148.78936177,  74.        ]])]\n"
     ]
    }
   ],
   "source": [
    "# each row of dat is a trial (a single image + behavior).\n",
    "\n",
    "# - motor behavior is saved in \"strokes_beh\"\n",
    "# - stroke_beh is a list of np arrays, each array is shape (N, 3), where N is number timepoints and\n",
    "# 3 is (x, y, t) coordiantes. x and y are in pixels (centered at 0) and t is seconds rel trial onset.\n",
    "# - len(strokes_beh) tells you how many independent segments were in the motor behavior (i.e,., each segment\n",
    "# is touch --> draw --> lift.\n",
    "trial = 50\n",
    "# print(dat[\"strokes_beh\"][trial])\n",
    "print(\"num segmetns in this trial:\")\n",
    "print(len(dat[\"strokes_beh\"][trial]))\n",
    "\n",
    "\n",
    "# -Stimuli are saved in the exact same way, except the order of segments is meaningless\n",
    "# and is therefore arbitrary. there is a still a time coordinate, but it is just indices from 0, 1, ..\n",
    "print(\"task stimulus\")\n",
    "print(dat[\"strokes_task\"][trial])\n",
    "\n"
   ]
  },
  {
   "cell_type": "markdown",
   "metadata": {},
   "source": [
    "## DATA VISYUALIZATION (motor data)\n",
    "\n",
    "- Helper functions to visualize the mtoor and stim data"
   ]
  },
  {
   "cell_type": "code",
   "execution_count": 4,
   "metadata": {},
   "outputs": [
    {
     "data": {
      "text/plain": [
       "(-165.00278528025507, 167.99762276138011)"
      ]
     },
     "execution_count": 4,
     "metadata": {},
     "output_type": "execute_result"
    },
    {
     "data": {
      "image/png": "[encoded data removed]",
      "text/plain": [
       "<Figure size 432x288 with 2 Axes>"
      ]
     },
     "metadata": {
      "needs_background": "light"
     },
     "output_type": "display_data"
    },
    {
     "data": {
      "image/png": "[encoded data removed]",
      "text/plain": [
       "<Figure size 432x288 with 1 Axes>"
      ]
     },
     "metadata": {
      "needs_background": "light"
     },
     "output_type": "display_data"
    }
   ],
   "source": [
    "import matplotlib.pyplot as plt\n",
    "from pythonlib.drawmodel.strokePlots import plotDatStrokes, plotDatStrokesTimecourse, plotDatWaterfall\n",
    "\n",
    "# === Plot a single trial\n",
    "idx = 100\n",
    "fig, axes = plt.subplots(1,2, sharex=True, sharey=True)\n",
    "\n",
    "# Plot behavior for this trial\n",
    "# - the ball marks stroke onset. stroke orders are color coded, and also indicated by numbers.\n",
    "strokes = dat[\"strokes_beh\"][idx]\n",
    "plotDatStrokes(strokes, axes[0], each_stroke_separate=True)\n",
    "\n",
    "# overlay the stimulus\n",
    "stim = dat[\"strokes_task\"][idx]\n",
    "plotDatStrokes(stim, axes[1], each_stroke_separate=True, plotver=\"onecolor\", add_stroke_number=False, mark_stroke_onset=False, pcol=\"k\")\n",
    "\n",
    "\n",
    "# === Plot motor timecourse for a single trial (smoothed velocity vs. time)\n",
    "fig, axes = plt.subplots(1,1, sharex=True, sharey=True)\n",
    "plotDatStrokesTimecourse(strokes, axes, plotver=\"vel\", label=\"vel (pix/sec)\")\n",
    "\n"
   ]
  },
  {
   "cell_type": "markdown",
   "metadata": {},
   "source": [
    "## EXPERIEMNTAL STRUCTURE/TIMELINE\n",
    "There are two epochs, each epoch having its set of training and tests tasks. \n",
    "\n",
    "Across days, it goes like this:\n",
    "Epoch 1 (Train) --> Epoch 1 (Test) --> Epoch 2 (Train) --> Epoch 2 (Test)\n",
    "\n",
    "Ideally, you train seprate models for Epochs 1 and 2, since the idea is that the monkey is laerning different\n",
    "\n",
    "Priors in the two epochs (Train) then being tested on similar test tasks (Test)."
   ]
  },
  {
   "cell_type": "code",
   "execution_count": 5,
   "metadata": {},
   "outputs": [
    {
     "data": {
      "text/plain": [
       "<seaborn.axisgrid.FacetGrid at 0x7f7c82aeca30>"
      ]
     },
     "execution_count": 5,
     "metadata": {},
     "output_type": "execute_result"
    },
    {
     "data": {
      "image/png": "[encoded data removed]",
      "text/plain": [
       "<Figure size 402.375x360 with 1 Axes>"
      ]
     },
     "metadata": {
      "needs_background": "light"
     },
     "output_type": "display_data"
    }
   ],
   "source": [
    "# To visualize the experimental structure:\n",
    "# notes:\n",
    "# - tvalday is time of trial. e..g, the first digit is the day, the value after decimal is fraction of day (not\n",
    "# exactly from midnight to midnight, but within the \"experimental session\"). so 2.5 means day 1, halfway through the \n",
    "# day (from start of expt to end of expt)\n",
    "# - to get the actual time, see \"tval\" qwhich is fraction of day from 0:00 to 24:00\n",
    "\n",
    "import seaborn as sns\n",
    "sns.catplot(data=dat, x=\"tvalday\", y=\"taskgroup\", hue=\"epoch\")"
   ]
  },
  {
   "cell_type": "markdown",
   "metadata": {},
   "source": [
    "## TO SPLIT INTO TRAINING VS. TEST TASKS\n",
    "Training tasks have taskgroup = \"train_random\" or \"train_fixed\"\n",
    "\n",
    "Test tasks have taskgroup:\n",
    "\n",
    "\"G2\" - \"interpolation\" tests\n",
    "\n",
    "\"G3\" - \"extrapolation\" test tasks"
   ]
  },
  {
   "cell_type": "code",
   "execution_count": 6,
   "metadata": {},
   "outputs": [
    {
     "name": "stdout",
     "output_type": "stream",
     "text": [
      "--\n",
      "G2\n",
      "420\n",
      "--\n",
      "train_random\n",
      "2043\n",
      "--\n",
      "train_fixed\n",
      "2799\n",
      "--\n",
      "G3\n",
      "309\n",
      "--\n",
      "test_random\n",
      "28\n",
      "1894\n"
     ]
    }
   ],
   "source": [
    "# Check and print sample sizes.\n",
    "for t in set(dat[\"taskgroup\"]):\n",
    "    print(\"--\")\n",
    "    print(t)\n",
    "    print(sum(dat[\"taskgroup\"]==t))\n",
    "    \n",
    "    \n",
    "# For convenience, add column for whether task is train or test.\n",
    "from pythonlib.tools.pandastools import applyFunctionToAllRows\n",
    "\n",
    "def F(x):\n",
    "    if x[\"taskgroup\"] in [\"train_fixed\", \"train_random\"]:\n",
    "        return \"train\"\n",
    "    elif x[\"taskgroup\"] in [\"G2\", \"G3\", \"test_random\"]:\n",
    "        return \"test\"\n",
    "    else:\n",
    "        print(x)\n",
    "        assert False, \"huh\"\n",
    "dat = applyFunctionToAllRows(dat, F, \"train_or_test\")\n",
    "\n",
    "\n",
    "# Fro exampel, extract training tasks for epoch 1\n",
    "train_or_test = \"train\"\n",
    "epoch = 1\n",
    "datthis = dat[(dat[\"epoch\"]==epoch) & (dat[\"train_or_test\"]==train_or_test)]\n",
    "print(len(datthis))"
   ]
  },
  {
   "cell_type": "markdown",
   "metadata": {},
   "source": [
    "## normalizing units for data and images\n"
   ]
  },
  {
   "cell_type": "code",
   "execution_count": 7,
   "metadata": {},
   "outputs": [
    {
     "data": {
      "text/plain": [
       "array([[-327.2, -327.2],\n",
       "       [ 327.2,  429.6]])"
      ]
     },
     "execution_count": 7,
     "metadata": {},
     "output_type": "execute_result"
    }
   ],
   "source": [
    "# This holds the edges of sketchpad, in same units as data (pixels), in format:\n",
    "# [[-x, -y], [+x +y]], i..e, the limits of the \"sketchpad\". \n",
    "# - You can normalize units relative to these bounds, if needed\n",
    "metadat[\"sketchpad_edges\"]"
   ]
  }
 ],
 "metadata": {
  "kernelspec": {
   "display_name": "Python 3",
   "language": "python",
   "name": "python3"
  },
  "language_info": {
   "codemirror_mode": {
    "name": "ipython",
    "version": 3
   },
   "file_extension": ".py",
   "mimetype": "text/x-python",
   "name": "python",
   "nbconvert_exporter": "python",
   "pygments_lexer": "ipython3",
   "version": "3.8.5"
  }
 },
 "nbformat": 4,
 "nbformat_minor": 2
}
