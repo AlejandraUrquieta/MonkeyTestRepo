{
 "cells": [
  {
   "cell_type": "code",
   "execution_count": 1,
   "id": "deluxe-hurricane",
   "metadata": {},
   "outputs": [
    {
     "data": {
      "text/plain": [
       "' \\nGoal, given monkey behavior, fit best MP and score.\\n(just single MP)\\n\\nAlso, try to optimize model, conditions on these programs\\n\\nNBOTE: here is only extraction of MPs.\\nTo score, refit, etc, see stroke_to_MP_loadAnd ...\\n\\n\\nNOTE:\\n\\n'"
      ]
     },
     "execution_count": 1,
     "metadata": {},
     "output_type": "execute_result"
    }
   ],
   "source": [
    "\"\"\" \n",
    "\n",
    "NOTE:\n",
    "REfitting libraries to monkey,\n",
    "\n",
    "GOal here is for epxloring lib parametrs and refitting to datsets.\n",
    "\n",
    "\"\"\""
   ]
  },
  {
   "cell_type": "code",
   "execution_count": 1,
   "id": "foreign-horizon",
   "metadata": {},
   "outputs": [],
   "source": [
    "import os\n",
    "# import cv2 # needed to create movie visualization of optimizaiton\n",
    "%matplotlib inline\n",
    "import matplotlib.pylab as plt\n",
    "import numpy as np\n",
    "# from tqdm import tqdm\n",
    "import imageio\n",
    "import torch\n",
    "import torch.distributions as dist\n",
    "\n",
    "from pybpl.library import Library\n",
    "from pybpl.model import CharacterModel\n",
    "from pybpl.objects.concept import CharacterType\n",
    "from pybpl.objects.part import StrokeType\n",
    "from pybpl.objects.relation import RelationIndependent, RelationAttachAlong\n",
    "from pybpl import rendering\n",
    "\n",
    "# library and type distribution\n",
    "lib = Library('/data1/code/python/pyBPL/lib_data/', )"
   ]
  },
  {
   "cell_type": "markdown",
   "id": "robust-snowboard",
   "metadata": {},
   "source": [
    "### REFIT LIB TO A DATSAET"
   ]
  },
  {
   "cell_type": "code",
   "execution_count": 2,
   "id": "seventh-definition",
   "metadata": {},
   "outputs": [],
   "source": [
    "import pandas as pd\n",
    "import pickle \n",
    "from pythonlib.dataset.dataset import Dataset\n",
    "from pythonlib.bpl.strokesToProgram import *\n",
    "\n"
   ]
  },
  {
   "cell_type": "code",
   "execution_count": 84,
   "id": "racial-student",
   "metadata": {},
   "outputs": [
    {
     "name": "stdout",
     "output_type": "stream",
     "text": [
      "Searching using this string:\n",
      "/data2/analyses/database/*Red*bias*/**\n",
      "-- Splitting off dir from fname\n",
      "Found this many paths:\n",
      "8\n",
      "---\n",
      "/data2/analyses/database/Red-biasdir2-formodeling-210406_014229\n",
      "---\n",
      "/data2/analyses/database/Red-biasdir3-formodeling-210406_014249\n",
      "---\n",
      "/data2/analyses/database/Red-biasdir3-formodeling-210406_014350\n",
      "---\n",
      "/data2/analyses/database/Red-biasdir4-formodeling-210406_014401\n",
      "---\n",
      "/data2/analyses/database/Red-biasdir5-formodeling-210406_014421\n",
      "---\n",
      "/data2/analyses/database/Red-biasdir6-formodeling-210406_014444\n",
      "---\n",
      "/data2/analyses/database/Red-biasdir7_1-formodeling-210406_014458\n",
      "---\n",
      "/data2/analyses/database/Red-biasdir7_2-formodeling-210406_014503\n"
     ]
    }
   ],
   "source": [
    "# [V2] Give me path by hand (monkey strokes data\n",
    "from pythonlib.tools.expttools import findPath\n",
    "\n",
    "animal=\"Red\"\n",
    "pathlist = findPath(\"/data2/analyses/database\",\n",
    "         [[animal, \"bias\"]], return_without_fname=True)\n",
    "\n"
   ]
  },
  {
   "cell_type": "code",
   "execution_count": 5,
   "id": "prompt-ethernet",
   "metadata": {},
   "outputs": [
    {
     "name": "stdout",
     "output_type": "stream",
     "text": [
      "----------------\n",
      "Currently loading: /data2/analyses/database/Pancho-arc2-formodeling-210329_014648\n",
      "Loaded dataset, size:\n",
      "5430\n",
      "Loaded metadat:\n",
      "{'sketchpad_edges': array([[-327.2, -327.2],\n",
      "       [ 327.2,  429.6]])}\n",
      "----\n",
      "Resetting index\n",
      "=== CLEANING UP self.Dat ===== \n",
      "ORIGINAL: online abort values\n",
      "too_far_from_ink    260\n",
      "hotkey_abort         14\n",
      "Name: online_abort, dtype: int64\n",
      "kept 5156 out of 5430\n",
      "removed all cases with online abort not None\n",
      "Deleted unused columns from self.Dat\n"
     ]
    }
   ],
   "source": [
    "D = Dataset(path_list)"
   ]
  },
  {
   "cell_type": "code",
   "execution_count": 17,
   "id": "cultural-arkansas",
   "metadata": {},
   "outputs": [
    {
     "name": "stdout",
     "output_type": "stream",
     "text": [
      "Searching using this string:\n",
      "/data2/analyses/database/Pancho-arc2-formodeling-210329_014648/*infer_MPs_from_strokes*/*params*.pkl\n",
      "-- Splitting off dir from fname\n",
      "Found this many paths:\n",
      "1\n",
      "---\n",
      "/data2/analyses/database/Pancho-arc2-formodeling-210329_014648/infer_MPs_from_strokes-210405_205552\n"
     ]
    }
   ],
   "source": [
    "D.bpl_load_motorprograms()"
   ]
  },
  {
   "cell_type": "code",
   "execution_count": 13,
   "id": "floppy-valley",
   "metadata": {},
   "outputs": [
    {
     "data": {
      "text/plain": [
       "torch.Size([1212])"
      ]
     },
     "execution_count": 13,
     "metadata": {},
     "output_type": "execute_result"
    }
   ],
   "source": [
    "lib.logStart.shape"
   ]
  },
  {
   "cell_type": "code",
   "execution_count": 12,
   "id": "helpful-elite",
   "metadata": {},
   "outputs": [
    {
     "data": {
      "text/plain": [
       "torch.Size([1212])"
      ]
     },
     "execution_count": 12,
     "metadata": {},
     "output_type": "execute_result"
    }
   ],
   "source": [
    "torch.log(lib.shape[\"mixprob\"])"
   ]
  },
  {
   "cell_type": "code",
   "execution_count": 14,
   "id": "binding-strip",
   "metadata": {},
   "outputs": [
    {
     "data": {
      "text/plain": [
       "range(0, 1212)"
      ]
     },
     "execution_count": 14,
     "metadata": {},
     "output_type": "execute_result"
    }
   ],
   "source": [
    "range(len(lib.logStart))"
   ]
  },
  {
   "cell_type": "code",
   "execution_count": 19,
   "id": "unusual-patio",
   "metadata": {},
   "outputs": [
    {
     "data": {
      "text/plain": [
       "<bound method Library.pT of <pybpl.library.library.Library object at 0x7f22d76dd4d0>>"
      ]
     },
     "execution_count": 19,
     "metadata": {},
     "output_type": "execute_result"
    }
   ],
   "source": [
    "lib.pT"
   ]
  },
  {
   "cell_type": "code",
   "execution_count": 18,
   "id": "later-ambassador",
   "metadata": {},
   "outputs": [
    {
     "name": "stdout",
     "output_type": "stream",
     "text": [
      "====== DOING prim_type_mixture\n",
      "-- Extracted these counts:\n",
      "[0, 2, 3, 7, 10, 11, 15, 17, 19, 20, 21, 22, 25, 27, 28, 29, 32, 39, 40, 43, 45, 47, 52, 53, 59, 63, 65, 67, 70, 73, 74, 75, 76, 79, 84, 86, 87, 88, 91, 94, 95, 96, 99, 103, 110, 111, 113, 114, 116, 117, 118, 124, 125, 129, 130, 134, 135, 139, 144, 146, 148, 149, 157, 160, 162, 170, 171, 175, 180, 188, 190, 195, 197, 208, 211, 214, 218, 221, 222, 223, 226, 227, 229, 231, 233, 243, 247, 248, 250, 255, 260, 263, 266, 277, 282, 286, 287, 290, 293, 294, 296, 298, 304, 307, 310, 319, 321, 340, 345, 346, 348, 350, 354, 365, 366, 376, 387, 389, 391, 392, 393, 397, 400, 410, 416, 420, 452, 473, 475, 476, 483, 489, 492, 497, 504, 508, 522, 523, 525, 528, 534, 542, 551, 553, 554, 556, 566, 574, 576, 589, 597, 598, 603, 605, 606, 610, 614, 634, 638, 641, 642, 643, 652, 653, 657, 662, 681, 686, 690, 698, 710, 711, 713, 716, 717, 723, 732, 747, 774, 777, 781, 789, 794, 815, 817, 822, 844, 851, 853, 856, 874, 876, 881, 883, 886, 890, 893, 896, 898, 904, 915, 919, 926, 943, 945, 951, 961, 968, 970, 990, 992, 1002, 1005, 1009, 1013, 1020, 1027, 1045, 1048, 1056, 1062, 1064, 1068, 1078, 1088, 1089, 1091, 1093, 1094, 1098, 1102, 1131, 1133, 1134, 1140, 1141, 1149, 1157, 1183, 1189]\n",
      "[2, 10, 1, 15, 10, 1, 6, 1, 23, 23, 3, 11, 3, 1, 1, 1, 3, 8, 2, 4, 2, 1, 15, 1, 3, 2, 1, 1, 19, 2, 14, 6, 3, 9, 6, 1, 6, 1, 3, 3, 2, 5, 2, 2, 1, 2, 1, 3, 2, 3, 5, 8, 13, 4, 25, 3, 6, 320, 5, 8, 6, 6, 13, 3, 14, 9, 1599, 2, 11, 31, 2, 2, 17, 11, 2, 60, 11, 6, 17, 530, 27, 6, 1, 2, 95, 1, 2, 1, 2, 1, 9, 4, 2, 2, 5, 3, 6, 1, 2, 1, 7, 7, 1, 1, 6, 1, 64, 4, 2, 5, 1, 2, 4, 6, 1, 5, 1, 1, 9, 3, 176, 4, 2, 1, 4, 2, 1, 7, 18, 1, 3, 20, 47, 12, 3, 1, 4, 4, 8, 1, 55, 2, 8, 34, 2, 1, 1, 1, 6, 3, 1, 1467, 1, 2, 12, 1, 1, 1, 2, 3, 146, 1, 6, 10, 11, 35, 26, 3, 6, 4, 9, 1, 1, 73, 18, 8, 4, 2, 2, 2, 1, 26, 2, 2, 40, 6, 23, 1, 15, 22, 1, 2, 1, 1, 3, 1, 33, 8, 21, 7, 3, 4, 58, 121, 6, 3, 5, 14, 2, 53, 3, 1, 4, 1, 12, 1, 6, 1, 5, 12, 5, 3, 1, 4, 13, 3, 2, 13, 4, 33, 74, 2, 2, 1, 33, 7, 1, 3, 3, 3]\n",
      "-- Using this for prior counts:\n",
      "[1.]\n",
      "cats, this order:\n",
      "range(0, 1212)\n",
      "these probs:\n",
      "tensor([0.0004, 0.0001, 0.0015,  ..., 0.0001, 0.0001, 0.0001])\n",
      "-- Updated lib_update.shape['mixprob']\n"
     ]
    },
    {
     "data": {
      "text/plain": [
       "<pybpl.library.library.Library at 0x7f22d5c587d0>"
      ]
     },
     "execution_count": 18,
     "metadata": {},
     "output_type": "execute_result"
    },
    {
     "data": {
      "image/png": "[encoded data removed]",
      "text/plain": [
       "<Figure size 432x288 with 1 Axes>"
      ]
     },
     "metadata": {
      "needs_background": "light"
     },
     "output_type": "display_data"
    }
   ],
   "source": [
    "from pythonlib.bpl.refitting import libRefitted\n",
    "\n",
    "MPlist_flat = list(D.Dat[\"motor_program\"].values)\n",
    "libRefitted(MPlist_flat, params_to_update=[\"prim_type_mixture\"])"
   ]
  },
  {
   "cell_type": "code",
   "execution_count": 32,
   "id": "paperback-ethnic",
   "metadata": {},
   "outputs": [
    {
     "data": {
      "text/plain": [
       "tensor(1.0000)"
      ]
     },
     "execution_count": 32,
     "metadata": {},
     "output_type": "execute_result"
    }
   ],
   "source": [
    "torch.sum(torch.exp(lib.logT[0]))"
   ]
  },
  {
   "cell_type": "code",
   "execution_count": 37,
   "id": "suspended-ambassador",
   "metadata": {},
   "outputs": [
    {
     "data": {
      "text/plain": [
       "torch.Size([1212])"
      ]
     },
     "execution_count": 37,
     "metadata": {},
     "output_type": "execute_result"
    }
   ],
   "source": [
    "lib.logStart.shape"
   ]
  },
  {
   "cell_type": "code",
   "execution_count": 47,
   "id": "dirty-lodging",
   "metadata": {},
   "outputs": [
    {
     "data": {
      "text/plain": [
       "tensor(1.0000)"
      ]
     },
     "execution_count": 47,
     "metadata": {},
     "output_type": "execute_result"
    }
   ],
   "source": [
    "torch.sum(torch.exp(lib.logStart))"
   ]
  },
  {
   "cell_type": "code",
   "execution_count": 53,
   "id": "comparable-citizenship",
   "metadata": {},
   "outputs": [
    {
     "data": {
      "text/plain": [
       "tensor(1.0000)"
      ]
     },
     "execution_count": 53,
     "metadata": {},
     "output_type": "execute_result"
    }
   ],
   "source": [
    "tmp = lib.logStart.reshape(1,-1).repeat(len(lib.logStart), 1)\n",
    "\n",
    "torch.sum(torch.exp(tmp[100]))"
   ]
  },
  {
   "cell_type": "code",
   "execution_count": 58,
   "id": "color-server",
   "metadata": {},
   "outputs": [
    {
     "data": {
      "text/plain": [
       "torch.Size([1212, 1212])"
      ]
     },
     "execution_count": 58,
     "metadata": {},
     "output_type": "execute_result"
    }
   ],
   "source": [
    "tmp.shape\n",
    "lib.logT.shape"
   ]
  },
  {
   "cell_type": "code",
   "execution_count": 63,
   "id": "above-migration",
   "metadata": {},
   "outputs": [
    {
     "data": {
      "text/plain": [
       "<matplotlib.colorbar.Colorbar at 0x7f22d4e73850>"
      ]
     },
     "execution_count": 63,
     "metadata": {},
     "output_type": "execute_result"
    },
    {
     "data": {
      "image/png": "[encoded data removed]",
      "text/plain": [
       "<Figure size 432x288 with 2 Axes>"
      ]
     },
     "metadata": {
      "needs_background": "light"
     },
     "output_type": "display_data"
    }
   ],
   "source": [
    "plt.figure()\n",
    "plt.imshow(lib.pmat_nsub, origin=\"lower\")\n",
    "plt.colorbar()"
   ]
  },
  {
   "cell_type": "code",
   "execution_count": 75,
   "id": "natural-contract",
   "metadata": {},
   "outputs": [
    {
     "data": {
      "text/plain": [
       "torch.Size([10])"
      ]
     },
     "execution_count": 75,
     "metadata": {},
     "output_type": "execute_result"
    }
   ],
   "source": [
    "tmp = lib.pmat_nsub[0].repeat((10,1))\n",
    "tmp[1].shape\n",
    "\n",
    "\n"
   ]
  },
  {
   "cell_type": "code",
   "execution_count": 80,
   "id": "controversial-strain",
   "metadata": {},
   "outputs": [
    {
     "data": {
      "text/plain": [
       "torch.Size([1212, 2])"
      ]
     },
     "execution_count": 80,
     "metadata": {},
     "output_type": "execute_result"
    }
   ],
   "source": [
    "lib.scale[\"theta\"].shape"
   ]
  }
 ],
 "metadata": {
  "kernelspec": {
   "display_name": "Python 3",
   "language": "python",
   "name": "python3"
  },
  "language_info": {
   "codemirror_mode": {
    "name": "ipython",
    "version": 3
   },
   "file_extension": ".py",
   "mimetype": "text/x-python",
   "name": "python",
   "nbconvert_exporter": "python",
   "pygments_lexer": "ipython3",
   "version": "3.7.10"
  }
 },
 "nbformat": 4,
 "nbformat_minor": 5
}
